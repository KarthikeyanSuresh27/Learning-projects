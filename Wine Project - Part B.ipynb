{
 "cells": [
  {
   "cell_type": "markdown",
   "id": "984c871a",
   "metadata": {},
   "source": [
    "## Wine Project - Part B\n",
    "\n",
    "## Questions:\n",
    "\n",
    "1.Suppose the population mean ofthe variable “density”is μ, do the following inferences: \n",
    "a.Provide an estimate of μbased on the sample;\n",
    "b.Use the Central Limit Theorem (CLT) to quantify thevariabilityof your estimate;\n",
    "c.Use the CLT to give a 95% confidence interval for μ.\n",
    "d.Use the bootstrap method to do parts b and c, and compare the results with those obtained from theCLT. State your findings. e.Can we use a normal distribution to model “density”? If yes, what are the maximum likelihood estimates of the mean and standard deviation? Please provide their standard errors as well. \n",
    "\n",
    "Notes: 1a. The population includesall the red wines produced in the north of Portugal. The sample is these 1599 bottles of red winestested. We use “the sample” (1599 rows of data) to make inference about the population mean parameter mu.1e. To find the MLEs, you may consider multiplying the data by 10. This will solve anumerical problem you mayencounter. You musttransform back in the end.\n",
    "\n",
    "2 Suppose the population mean of the variable “residual sugar” is μ, answer the following questions. \n",
    "a.Provide an estimate of μ based on the sample;\n",
    "b.Noting that the sample distribution of “residual sugar” is highly skewed, can we use the CLT to quantify the variability of your estimate? Can we use the CLT to give a 95% confidence interval for μ? If yes, please give your solution.If no, explain why. c.Use the bootstrap method to do part b. Is the bootstrap confidence interval symmetric?  (hint: check the bootstrap distribution; see p. 43in Lecture 3).\n",
    "d.Can we use a normal distribution to model “residual sugar”? If no, what distribution do you think can approximate its empirical distribution? What parameters are needed to characterize such a distribution? what are their maximum likelihood estimates? Please provide their standard errors as well.\n",
    "\n",
    "3.\n",
    "We classify those winesas “excellent” if their rating is at least 7. Suppose the population proportion of excellent wines is p. Do the following:\n",
    "a.Use the CLT to derive a 95% confidence intervalfor p;\n",
    "b.Use the bootstrap method to derive a 95% confidence intervalfor p;\n",
    "c.Compare the two intervals. Is there any difference worth our attention?\n",
    "d.What is the maximum likelihood estimate of p and its standard error?"
   ]
  },
  {
   "cell_type": "code",
   "execution_count": 64,
   "id": "43595c5f",
   "metadata": {},
   "outputs": [
    {
     "data": {
      "text/html": [
       "<div>\n",
       "<style scoped>\n",
       "    .dataframe tbody tr th:only-of-type {\n",
       "        vertical-align: middle;\n",
       "    }\n",
       "\n",
       "    .dataframe tbody tr th {\n",
       "        vertical-align: top;\n",
       "    }\n",
       "\n",
       "    .dataframe thead th {\n",
       "        text-align: right;\n",
       "    }\n",
       "</style>\n",
       "<table border=\"1\" class=\"dataframe\">\n",
       "  <thead>\n",
       "    <tr style=\"text-align: right;\">\n",
       "      <th></th>\n",
       "      <th>fixed acidity</th>\n",
       "      <th>volatile acidity</th>\n",
       "      <th>citric acid</th>\n",
       "      <th>residual sugar</th>\n",
       "      <th>chlorides</th>\n",
       "      <th>free sulfur dioxide</th>\n",
       "      <th>total sulfur dioxide</th>\n",
       "      <th>density</th>\n",
       "      <th>pH</th>\n",
       "      <th>sulphates</th>\n",
       "      <th>alcohol</th>\n",
       "      <th>quality</th>\n",
       "    </tr>\n",
       "  </thead>\n",
       "  <tbody>\n",
       "    <tr>\n",
       "      <th>0</th>\n",
       "      <td>7.4</td>\n",
       "      <td>0.700</td>\n",
       "      <td>0.00</td>\n",
       "      <td>1.9</td>\n",
       "      <td>0.076</td>\n",
       "      <td>11.0</td>\n",
       "      <td>34.0</td>\n",
       "      <td>0.99780</td>\n",
       "      <td>3.51</td>\n",
       "      <td>0.56</td>\n",
       "      <td>9.4</td>\n",
       "      <td>5</td>\n",
       "    </tr>\n",
       "    <tr>\n",
       "      <th>1</th>\n",
       "      <td>7.8</td>\n",
       "      <td>0.880</td>\n",
       "      <td>0.00</td>\n",
       "      <td>2.6</td>\n",
       "      <td>0.098</td>\n",
       "      <td>25.0</td>\n",
       "      <td>67.0</td>\n",
       "      <td>0.99680</td>\n",
       "      <td>3.20</td>\n",
       "      <td>0.68</td>\n",
       "      <td>9.8</td>\n",
       "      <td>5</td>\n",
       "    </tr>\n",
       "    <tr>\n",
       "      <th>2</th>\n",
       "      <td>7.8</td>\n",
       "      <td>0.760</td>\n",
       "      <td>0.04</td>\n",
       "      <td>2.3</td>\n",
       "      <td>0.092</td>\n",
       "      <td>15.0</td>\n",
       "      <td>54.0</td>\n",
       "      <td>0.99700</td>\n",
       "      <td>3.26</td>\n",
       "      <td>0.65</td>\n",
       "      <td>9.8</td>\n",
       "      <td>5</td>\n",
       "    </tr>\n",
       "    <tr>\n",
       "      <th>3</th>\n",
       "      <td>11.2</td>\n",
       "      <td>0.280</td>\n",
       "      <td>0.56</td>\n",
       "      <td>1.9</td>\n",
       "      <td>0.075</td>\n",
       "      <td>17.0</td>\n",
       "      <td>60.0</td>\n",
       "      <td>0.99800</td>\n",
       "      <td>3.16</td>\n",
       "      <td>0.58</td>\n",
       "      <td>9.8</td>\n",
       "      <td>6</td>\n",
       "    </tr>\n",
       "    <tr>\n",
       "      <th>4</th>\n",
       "      <td>7.4</td>\n",
       "      <td>0.700</td>\n",
       "      <td>0.00</td>\n",
       "      <td>1.9</td>\n",
       "      <td>0.076</td>\n",
       "      <td>11.0</td>\n",
       "      <td>34.0</td>\n",
       "      <td>0.99780</td>\n",
       "      <td>3.51</td>\n",
       "      <td>0.56</td>\n",
       "      <td>9.4</td>\n",
       "      <td>5</td>\n",
       "    </tr>\n",
       "    <tr>\n",
       "      <th>...</th>\n",
       "      <td>...</td>\n",
       "      <td>...</td>\n",
       "      <td>...</td>\n",
       "      <td>...</td>\n",
       "      <td>...</td>\n",
       "      <td>...</td>\n",
       "      <td>...</td>\n",
       "      <td>...</td>\n",
       "      <td>...</td>\n",
       "      <td>...</td>\n",
       "      <td>...</td>\n",
       "      <td>...</td>\n",
       "    </tr>\n",
       "    <tr>\n",
       "      <th>1594</th>\n",
       "      <td>6.2</td>\n",
       "      <td>0.600</td>\n",
       "      <td>0.08</td>\n",
       "      <td>2.0</td>\n",
       "      <td>0.090</td>\n",
       "      <td>32.0</td>\n",
       "      <td>44.0</td>\n",
       "      <td>0.99490</td>\n",
       "      <td>3.45</td>\n",
       "      <td>0.58</td>\n",
       "      <td>10.5</td>\n",
       "      <td>5</td>\n",
       "    </tr>\n",
       "    <tr>\n",
       "      <th>1595</th>\n",
       "      <td>5.9</td>\n",
       "      <td>0.550</td>\n",
       "      <td>0.10</td>\n",
       "      <td>2.2</td>\n",
       "      <td>0.062</td>\n",
       "      <td>39.0</td>\n",
       "      <td>51.0</td>\n",
       "      <td>0.99512</td>\n",
       "      <td>3.52</td>\n",
       "      <td>0.76</td>\n",
       "      <td>11.2</td>\n",
       "      <td>6</td>\n",
       "    </tr>\n",
       "    <tr>\n",
       "      <th>1596</th>\n",
       "      <td>6.3</td>\n",
       "      <td>0.510</td>\n",
       "      <td>0.13</td>\n",
       "      <td>2.3</td>\n",
       "      <td>0.076</td>\n",
       "      <td>29.0</td>\n",
       "      <td>40.0</td>\n",
       "      <td>0.99574</td>\n",
       "      <td>3.42</td>\n",
       "      <td>0.75</td>\n",
       "      <td>11.0</td>\n",
       "      <td>6</td>\n",
       "    </tr>\n",
       "    <tr>\n",
       "      <th>1597</th>\n",
       "      <td>5.9</td>\n",
       "      <td>0.645</td>\n",
       "      <td>0.12</td>\n",
       "      <td>2.0</td>\n",
       "      <td>0.075</td>\n",
       "      <td>32.0</td>\n",
       "      <td>44.0</td>\n",
       "      <td>0.99547</td>\n",
       "      <td>3.57</td>\n",
       "      <td>0.71</td>\n",
       "      <td>10.2</td>\n",
       "      <td>5</td>\n",
       "    </tr>\n",
       "    <tr>\n",
       "      <th>1598</th>\n",
       "      <td>6.0</td>\n",
       "      <td>0.310</td>\n",
       "      <td>0.47</td>\n",
       "      <td>3.6</td>\n",
       "      <td>0.067</td>\n",
       "      <td>18.0</td>\n",
       "      <td>42.0</td>\n",
       "      <td>0.99549</td>\n",
       "      <td>3.39</td>\n",
       "      <td>0.66</td>\n",
       "      <td>11.0</td>\n",
       "      <td>6</td>\n",
       "    </tr>\n",
       "  </tbody>\n",
       "</table>\n",
       "<p>1599 rows × 12 columns</p>\n",
       "</div>"
      ],
      "text/plain": [
       "      fixed acidity  volatile acidity  citric acid  residual sugar  chlorides  \\\n",
       "0               7.4             0.700         0.00             1.9      0.076   \n",
       "1               7.8             0.880         0.00             2.6      0.098   \n",
       "2               7.8             0.760         0.04             2.3      0.092   \n",
       "3              11.2             0.280         0.56             1.9      0.075   \n",
       "4               7.4             0.700         0.00             1.9      0.076   \n",
       "...             ...               ...          ...             ...        ...   \n",
       "1594            6.2             0.600         0.08             2.0      0.090   \n",
       "1595            5.9             0.550         0.10             2.2      0.062   \n",
       "1596            6.3             0.510         0.13             2.3      0.076   \n",
       "1597            5.9             0.645         0.12             2.0      0.075   \n",
       "1598            6.0             0.310         0.47             3.6      0.067   \n",
       "\n",
       "      free sulfur dioxide  total sulfur dioxide  density    pH  sulphates  \\\n",
       "0                    11.0                  34.0  0.99780  3.51       0.56   \n",
       "1                    25.0                  67.0  0.99680  3.20       0.68   \n",
       "2                    15.0                  54.0  0.99700  3.26       0.65   \n",
       "3                    17.0                  60.0  0.99800  3.16       0.58   \n",
       "4                    11.0                  34.0  0.99780  3.51       0.56   \n",
       "...                   ...                   ...      ...   ...        ...   \n",
       "1594                 32.0                  44.0  0.99490  3.45       0.58   \n",
       "1595                 39.0                  51.0  0.99512  3.52       0.76   \n",
       "1596                 29.0                  40.0  0.99574  3.42       0.75   \n",
       "1597                 32.0                  44.0  0.99547  3.57       0.71   \n",
       "1598                 18.0                  42.0  0.99549  3.39       0.66   \n",
       "\n",
       "      alcohol  quality  \n",
       "0         9.4        5  \n",
       "1         9.8        5  \n",
       "2         9.8        5  \n",
       "3         9.8        6  \n",
       "4         9.4        5  \n",
       "...       ...      ...  \n",
       "1594     10.5        5  \n",
       "1595     11.2        6  \n",
       "1596     11.0        6  \n",
       "1597     10.2        5  \n",
       "1598     11.0        6  \n",
       "\n",
       "[1599 rows x 12 columns]"
      ]
     },
     "execution_count": 64,
     "metadata": {},
     "output_type": "execute_result"
    }
   ],
   "source": [
    "import pandas as pd\n",
    "import numpy as np\n",
    "import matplotlib.pyplot as plt\n",
    "import seaborn as sns\n",
    "from scipy import stats as st\n",
    "import scipy.optimize as opt\n",
    "\n",
    "winequality_red = pd.read_csv('winequality-red.csv', sep=';')\n",
    "winequality_red"
   ]
  },
  {
   "cell_type": "markdown",
   "id": "ee736f49",
   "metadata": {},
   "source": [
    "#### Suppose the population mean of the variable “density” is μ\n",
    "**1(a) Provide an estimate of μ based on the sample**\n",
    "\n",
    "Ans: estimate of μ is 0.99674"
   ]
  },
  {
   "cell_type": "code",
   "execution_count": 2,
   "id": "c9826877",
   "metadata": {},
   "outputs": [
    {
     "data": {
      "text/plain": [
       "0.9967466791744831"
      ]
     },
     "execution_count": 2,
     "metadata": {},
     "output_type": "execute_result"
    }
   ],
   "source": [
    "density_mean = winequality_red['density'].mean()"
   ]
  },
  {
   "cell_type": "markdown",
   "id": "486a4020",
   "metadata": {},
   "source": [
    "**b. Use the Central Limit Theorem (CLT) to quantify the variability of your estimate**\n",
    "\n",
    "Ans: Variability is explained by the standard error, which is 4.719810055780343e-05"
   ]
  },
  {
   "cell_type": "code",
   "execution_count": 6,
   "id": "78065924",
   "metadata": {},
   "outputs": [
    {
     "data": {
      "text/plain": [
       "4.719810055780343e-05"
      ]
     },
     "execution_count": 6,
     "metadata": {},
     "output_type": "execute_result"
    }
   ],
   "source": [
    "std_error = winequality_red['density'].std()/(np.sqrt(len(winequality_red['density'])))\n"
   ]
  },
  {
   "cell_type": "markdown",
   "id": "4be6f415",
   "metadata": {},
   "source": [
    "**c. Use the CLT to give a 95% confidence interval for μ.**\n",
    "\n",
    "Ans:\n",
    "Mean is 0.99674\n",
    "\n",
    "Confidence interval is (0.99665, 0.99683)"
   ]
  },
  {
   "cell_type": "code",
   "execution_count": 11,
   "id": "66b28634",
   "metadata": {},
   "outputs": [
    {
     "data": {
      "text/plain": [
       "(0.9967466791744841, 0.996654102478286, 0.9968392558706822)"
      ]
     },
     "execution_count": 11,
     "metadata": {},
     "output_type": "execute_result"
    }
   ],
   "source": [
    "def confidence_interval(data, confidence=0.95):\n",
    "    a = 1.0 * np.array(data)\n",
    "    n = len(a)\n",
    "    m, se = np.mean(a), st.sem(a)\n",
    "    h = se * st.t.ppf((1 + confidence) / 2., n-1)\n",
    "    return m, m-h, m+h\n",
    "confidence_interval(winequality_red['density'])"
   ]
  },
  {
   "cell_type": "code",
   "execution_count": 8,
   "id": "85405d42",
   "metadata": {},
   "outputs": [
    {
     "data": {
      "text/plain": [
       "(0.9966541725972511, 0.9968391857517152)"
      ]
     },
     "execution_count": 8,
     "metadata": {},
     "output_type": "execute_result"
    }
   ],
   "source": [
    "st.norm.interval(alpha=0.95, loc=np.mean(winequality_red['density']), scale=st.sem(winequality_red['density']))"
   ]
  },
  {
   "cell_type": "markdown",
   "id": "917389a4",
   "metadata": {},
   "source": [
    "**d.Use the bootstrap method to do parts b and c, and compare the results with those obtained from the CLT. State your findings.**\n",
    "\n",
    "Ans: The distribution seems normal, and this is exactly what we were expecting, because of the Central Limit Theorem when independent random variables are added, their sum tends toward a normal distribution even if the original variables themselves are not normally distributed.\n",
    "\n",
    "Comparing bootstrapped results with CLT\n",
    "\n",
    "Standard error after bootstrapping - 4.727218958015202e-07\n",
    "\n",
    "Standard error with CLT - 4.719810055780343e-05\n",
    "\n",
    "Bootstrap CI - (0.99665442, 0.99683981)\n",
    "\n",
    "CLT CI - (0.99665, 0.99683)\n",
    "\n",
    "Standard error after bootstrapping is better because we have resampled thousands of times and the estimates are more representative of the population. Also, as shown in the distribution below, the bootstrap confidence interval is symmetric"
   ]
  },
  {
   "cell_type": "code",
   "execution_count": 44,
   "id": "262ae4b2",
   "metadata": {},
   "outputs": [],
   "source": [
    "sample_mean = []\n",
    "for _ in range(10000):\n",
    "    sample_n = np.random.choice(winequality_red['density'],size=len(winequality_red['density']))\n",
    "    sample_mean.append(sample_n.mean())\n"
   ]
  },
  {
   "cell_type": "code",
   "execution_count": 45,
   "id": "33fc749e",
   "metadata": {},
   "outputs": [
    {
     "data": {
      "text/plain": [
       "<AxesSubplot:ylabel='Count'>"
      ]
     },
     "execution_count": 45,
     "metadata": {},
     "output_type": "execute_result"
    },
    {
     "data": {
      "image/png": "[encoded data removed]",
      "text/plain": [
       "<Figure size 432x288 with 1 Axes>"
      ]
     },
     "metadata": {
      "needs_background": "light"
     },
     "output_type": "display_data"
    }
   ],
   "source": [
    "sns.histplot(sample_mean, kde=True)"
   ]
  },
  {
   "cell_type": "code",
   "execution_count": 19,
   "id": "f1227d40",
   "metadata": {},
   "outputs": [
    {
     "data": {
      "text/plain": [
       "4.727218958015202e-07"
      ]
     },
     "execution_count": 19,
     "metadata": {},
     "output_type": "execute_result"
    }
   ],
   "source": [
    "sample_std_error = np.array(sample_mean).std()/(np.sqrt(len(sample_mean)))\n",
    "sample_std_error"
   ]
  },
  {
   "cell_type": "code",
   "execution_count": 20,
   "id": "f807bcaf",
   "metadata": {},
   "outputs": [
    {
     "data": {
      "text/plain": [
       "array([0.99665442, 0.99683981])"
      ]
     },
     "execution_count": 20,
     "metadata": {},
     "output_type": "execute_result"
    }
   ],
   "source": [
    "conf_interval = np.percentile(sample_mean,[2.5,97.5])\n",
    "\n",
    "conf_interval"
   ]
  },
  {
   "cell_type": "markdown",
   "id": "f1e8a505",
   "metadata": {},
   "source": [
    "#### e. Can we use a normal distribution to model “density”? If yes, what are the maximum likelihood estimates of the mean and standard deviation? Please provide their standard errors as well.\n",
    "\n",
    "Ans: Yes, normal distribution can be used to model density. Its clear from the above histogram\n",
    "The function MLE for the original “density” values is not stable because the values are too small. To accommodate these values, multiply the variable “density” by ten to flatten the curve. Once the estimates and standard errors are calculated, divide those values by ten to achieve the accurate values.\n",
    "\n",
    "Maximum likelihood estimators\n",
    "mu_MLE= 0.9967  , sig_MLE= 0.01886\n",
    "\n",
    "Standard error as per MLE is 0.0004718"
   ]
  },
  {
   "cell_type": "code",
   "execution_count": 90,
   "id": "5548661b",
   "metadata": {},
   "outputs": [
    {
     "name": "stdout",
     "output_type": "stream",
     "text": [
      "mean Data (check)=  0.9967466791744831 std dev. Data (check) =  0.0018873339538425559\n",
      "mu_MLE= 0.996746640459573  sig_MLE= 0.018867382540109508\n"
     ]
    },
    {
     "name": "stderr",
     "output_type": "stream",
     "text": [
      "<ipython-input-90-1995ad606f71>:16: RuntimeWarning: divide by zero encountered in log\n",
      "  ln_pdf_vals = np.log(pdf_vals)\n",
      "C:\\Users\\Karthik\\anaconda3\\lib\\site-packages\\scipy\\optimize\\optimize.py:282: RuntimeWarning: Values in x were outside bounds during a minimize step, clipping to bounds\n",
      "  warnings.warn(\"Values in x were outside bounds during a \"\n"
     ]
    }
   ],
   "source": [
    "Data = winequality_red['density']*10\n",
    "\n",
    "print('mean Data (check)= ', winequality_red['density'].mean(), 'std dev. Data (check) = ',  winequality_red['density'].std())\n",
    "\n",
    "# function that generates probabilities\n",
    "def norm_pdf(xvals, mu, sigma):\n",
    "    pdf_vals = ((1 / (sigma * np.sqrt(2 * np.pi)) *\n",
    "                 np.exp(- (xvals - mu) ** 2 / (2 * sigma ** 2)))) # normal pdf distribution\n",
    "    return pdf_vals\n",
    "\n",
    "def log_lik_norm(xvals, mu, sigma):\n",
    "    # Generates values from a normal distributed pdf\n",
    "    pdf_vals = norm_pdf(xvals, mu, sigma)\n",
    "    # Take log of normal distributed pdf values  \n",
    "    # Take log of normal distributed pdf values\n",
    "    ln_pdf_vals = np.log(pdf_vals)  \n",
    "    # Summation of normal distributed pdf values (= loglikelihood)\n",
    "    log_lik_val = ln_pdf_vals.sum()\n",
    "    return log_lik_val\n",
    "\n",
    "def crit(params, *args): # Provides the negative log-likelihood\n",
    "    # Parameters\n",
    "    mu, sigma = params\n",
    "    # Arguments\n",
    "    xvals = args\n",
    "    # Log-likelihood\n",
    "    log_lik_val = log_lik_norm(xvals, mu, sigma)\n",
    "    # Maximizing -> NOTE: Minimizing is computationally more stable\n",
    "    neg_log_lik_val = -log_lik_val\n",
    "    return neg_log_lik_val\n",
    "\n",
    "mu_init = 3\n",
    "sig_init = 1 # initalization is sensitive for 'L-BFGS-B' -> first guess: method='SLSQP'\n",
    "params_init = np.array([mu_init, sig_init])\n",
    "# Arguments\n",
    "mle_args = (Data)\n",
    "# Minimizing procedure (constrained)\n",
    "results_cstr = opt.minimize(crit, params_init, args=(mle_args), method='SLSQP',\n",
    "                            bounds=((None, None), (1e-10, None)))\n",
    "\n",
    "# Maximum Likelihood Estimators\n",
    "mu_MLE, sig_MLE = results_cstr.x\n",
    "\n",
    "print('mu_MLE=', mu_MLE/10, ' sig_MLE=', sig_MLE)\n"
   ]
  },
  {
   "cell_type": "code",
   "execution_count": 92,
   "id": "1b9b9ef1",
   "metadata": {},
   "outputs": [
    {
     "data": {
      "text/plain": [
       "0.0004718320340592571"
      ]
     },
     "execution_count": 92,
     "metadata": {},
     "output_type": "execute_result"
    }
   ],
   "source": [
    "sample1_std_error = sig_MLE/(np.sqrt(len(winequality_red['density'])))\n",
    "sample1_std_error"
   ]
  },
  {
   "cell_type": "markdown",
   "id": "0419e73f",
   "metadata": {},
   "source": [
    "#### 2.Suppose the population mean of the variable “residual sugar” is μ, answer the following questions.**\n",
    "**a.Provide an estimate of μ based on the sample**\n",
    "\n",
    "Ans: estimate of μ is 2.53880"
   ]
  },
  {
   "cell_type": "code",
   "execution_count": 22,
   "id": "41f9ae97",
   "metadata": {},
   "outputs": [
    {
     "data": {
      "text/plain": [
       "2.5388055034396517"
      ]
     },
     "execution_count": 22,
     "metadata": {},
     "output_type": "execute_result"
    }
   ],
   "source": [
    "residualsugar_mean = winequality_red['residual sugar'].mean()\n",
    "residualsugar_mean"
   ]
  },
  {
   "cell_type": "markdown",
   "id": "1a5c830a",
   "metadata": {},
   "source": [
    "#### b. Noting that the sample distribution of “residual sugar” is highly skewed, can we use the CLT to quantify the variability of your estimate? Can we use the CLT to give a 95% confidence interval for μ? If yes, please give your solution.If no, explain why.\n",
    "\n",
    "Ans: Yes, we can use CLT to quantify the variaility of the estimate as long as we have a large enough sample size. The means will be normally distributed even though the sample is right skewed.\n",
    "\n",
    "Standard error in this case is 0.035259\n",
    "\n",
    "95% Confidence interval is (2.4696, 2.6079)"
   ]
  },
  {
   "cell_type": "code",
   "execution_count": 25,
   "id": "2cd99c5c",
   "metadata": {},
   "outputs": [
    {
     "data": {
      "text/plain": [
       "0.03525922171664837"
      ]
     },
     "execution_count": 25,
     "metadata": {},
     "output_type": "execute_result"
    }
   ],
   "source": [
    "std_error1 = winequality_red['residual sugar'].std()/(np.sqrt(len(winequality_red['residual sugar'])))\n",
    "std_error1"
   ]
  },
  {
   "cell_type": "code",
   "execution_count": 26,
   "id": "12b24187",
   "metadata": {},
   "outputs": [
    {
     "data": {
      "text/plain": [
       "(2.4696986987521083, 2.607912308127195)"
      ]
     },
     "execution_count": 26,
     "metadata": {},
     "output_type": "execute_result"
    }
   ],
   "source": [
    "st.norm.interval(alpha=0.95, loc=np.mean(winequality_red['residual sugar']), scale=st.sem(winequality_red['residual sugar']))"
   ]
  },
  {
   "cell_type": "markdown",
   "id": "d758f6e8",
   "metadata": {},
   "source": [
    "#### c. Use the bootstrap method to do part b. Is the bootstrap confidence interval symmetric?  (hint: check the bootstrap distribution; see p. 43in Lecture 3).\n",
    "\n",
    "Ans: \n",
    "\n",
    "Comparing bootstrapped results with CLT\n",
    "\n",
    "Standard error after bootstrapping - 0.0003482\n",
    "\n",
    "Standard error with CLT - 0.035259\n",
    "\n",
    "Bootstrap CI - (2.47325907, 2.60938399)\n",
    "\n",
    "CLT CI - (2.46969, 2.60791)\n",
    "\n",
    "Standard error after bootstrapping is better because we have resampled thousands of times and the estimates are more representative of the population.\n",
    "Also, as shown in the distribution below, the bootstrap confidence interval is symmetric\n"
   ]
  },
  {
   "cell_type": "code",
   "execution_count": null,
   "id": "7be11ed7",
   "metadata": {},
   "outputs": [],
   "source": []
  },
  {
   "cell_type": "code",
   "execution_count": 41,
   "id": "9316a786",
   "metadata": {},
   "outputs": [],
   "source": [
    "sample_mean1 = []\n",
    "for _ in range(10000):\n",
    "    sample_n = np.random.choice(winequality_red['residual sugar'],size=len(winequality_red['residual sugar']))\n",
    "    sample_mean1.append(sample_n.mean())"
   ]
  },
  {
   "cell_type": "code",
   "execution_count": 43,
   "id": "c53e08f9",
   "metadata": {},
   "outputs": [
    {
     "data": {
      "text/plain": [
       "<AxesSubplot:ylabel='Count'>"
      ]
     },
     "execution_count": 43,
     "metadata": {},
     "output_type": "execute_result"
    },
    {
     "data": {
      "image/png": "[encoded data removed]",
      "text/plain": [
       "<Figure size 432x288 with 1 Axes>"
      ]
     },
     "metadata": {
      "needs_background": "light"
     },
     "output_type": "display_data"
    }
   ],
   "source": [
    "sns.histplot(sample_mean1, kde=True)"
   ]
  },
  {
   "cell_type": "code",
   "execution_count": 46,
   "id": "64b5d8a3",
   "metadata": {},
   "outputs": [
    {
     "data": {
      "text/plain": [
       "array([2.47325907, 2.60938399])"
      ]
     },
     "execution_count": 46,
     "metadata": {},
     "output_type": "execute_result"
    }
   ],
   "source": [
    "conf_interval_sample = np.percentile(sample_mean1,[2.5,97.5])\n",
    "\n",
    "conf_interval_sample"
   ]
  },
  {
   "cell_type": "code",
   "execution_count": 47,
   "id": "15a55619",
   "metadata": {},
   "outputs": [
    {
     "data": {
      "text/plain": [
       "0.000348267212288569"
      ]
     },
     "execution_count": 47,
     "metadata": {},
     "output_type": "execute_result"
    }
   ],
   "source": [
    "sample1_std_error = np.array(sample_mean1).std()/(np.sqrt(len(sample_mean1)))\n",
    "sample1_std_error"
   ]
  },
  {
   "cell_type": "markdown",
   "id": "09495190",
   "metadata": {},
   "source": [
    "#### d. Can we use a normal distribution to model “residual sugar”? If no, what distribution do you think can approximate its empirical distribution? What parameters are needed to characterize such a distribution? what are their maximum likelihood estimates? Please provide their standard errors as well.\n",
    "\n",
    "Ans: No, we cannot use a normal distribution to model “residual sugar”. The histogram of residual sugar is heavily skewed to the right. With that said, a lognormal distribution can be used to approximate empirical distribution.\n",
    "Parameters required are mean log and standard deviation log\n",
    "\n",
    "Maximum likelihood estimators mu_MLE= 2.53880  , sig_MLE= 1.40948\n",
    "\n",
    "standard error as per MLE is 0.035259"
   ]
  },
  {
   "cell_type": "code",
   "execution_count": 89,
   "id": "c4ef3d0e",
   "metadata": {},
   "outputs": [
    {
     "name": "stdout",
     "output_type": "stream",
     "text": [
      "mean Data (check)=  2.5388055034396517 std dev. Data (check) =  1.4099280595072805\n",
      "mu_MLE= 2.5388054889615996  sig_MLE= 1.4094871365224748\n"
     ]
    },
    {
     "name": "stderr",
     "output_type": "stream",
     "text": [
      "<ipython-input-89-77d1e210d6c1>:16: RuntimeWarning: divide by zero encountered in log\n",
      "  ln_pdf_vals = np.log(pdf_vals)\n"
     ]
    },
    {
     "data": {
      "text/plain": [
       "0.03524819519570186"
      ]
     },
     "execution_count": 89,
     "metadata": {},
     "output_type": "execute_result"
    }
   ],
   "source": [
    "Data = winequality_red['residual sugar']\n",
    "\n",
    "print('mean Data (check)= ', Data.mean(), 'std dev. Data (check) = ',  Data.std())\n",
    "\n",
    "# function that generates probabilities\n",
    "def norm_pdf(xvals, mu, sigma):\n",
    "    pdf_vals = ((1 / (sigma * np.sqrt(2 * np.pi)) *\n",
    "                 np.exp(- (xvals - mu) ** 2 / (2 * sigma ** 2)))) # normal pdf distribution\n",
    "    return pdf_vals\n",
    "\n",
    "def log_lik_norm(xvals, mu, sigma):\n",
    "    # Generates values from a normal distributed pdf\n",
    "    pdf_vals = norm_pdf(xvals, mu, sigma)\n",
    "    # Take log of normal distributed pdf values  \n",
    "    # Take log of normal distributed pdf values\n",
    "    ln_pdf_vals = np.log(pdf_vals)  \n",
    "    # Summation of normal distributed pdf values (= loglikelihood)\n",
    "    log_lik_val = ln_pdf_vals.sum()\n",
    "    return log_lik_val\n",
    "\n",
    "def crit(params, *args): # Provides the negative log-likelihood\n",
    "    # Parameters\n",
    "    mu, sigma = params\n",
    "    # Arguments\n",
    "    xvals = args\n",
    "    # Log-likelihood\n",
    "    log_lik_val = log_lik_norm(xvals, mu, sigma)\n",
    "    # Maximizing -> NOTE: Minimizing is computationally more stable\n",
    "    neg_log_lik_val = -log_lik_val\n",
    "    return neg_log_lik_val\n",
    "\n",
    "mu_init = 3\n",
    "sig_init = 1 # initalization is sensitive for 'L-BFGS-B' -> first guess: method='SLSQP'\n",
    "params_init = np.array([mu_init, sig_init])\n",
    "# Arguments\n",
    "mle_args = (Data)\n",
    "# Minimizing procedure (constrained)\n",
    "results_cstr = opt.minimize(crit, params_init, args=(mle_args), method='SLSQP',\n",
    "                            bounds=((None, None), (1e-10, None)))\n",
    "\n",
    "# Maximum Likelihood Estimators\n",
    "mu_MLE, sig_MLE = results_cstr.x\n",
    "\n",
    "print('mu_MLE=', mu_MLE, ' sig_MLE=', sig_MLE)\n",
    "\n",
    "sample2_std_error = sig_MLE/(np.sqrt(len(winequality_red['residual sugar'])))\n",
    "sample2_std_error"
   ]
  },
  {
   "cell_type": "markdown",
   "id": "5ab5735b",
   "metadata": {},
   "source": [
    "#### 3. We classify those wines as “excellent” if their rating is at least 7. Suppose the population proportion of excellent wines is p. Do the following:\n",
    "**a.Use the CLT to derive a 95% confidence interval for p**\n",
    "\n",
    "Ans: Confidence interval is (0.11891, 0.15250)"
   ]
  },
  {
   "cell_type": "code",
   "execution_count": 86,
   "id": "9b9d5eeb",
   "metadata": {},
   "outputs": [],
   "source": [
    "winequality_red['class'] = winequality_red['quality'].apply(lambda x: 1 if x>=7 else 0)\n"
   ]
  },
  {
   "cell_type": "code",
   "execution_count": 81,
   "id": "11a43e98",
   "metadata": {},
   "outputs": [
    {
     "data": {
      "text/plain": [
       "(0.11891810078622822, 0.1525015364870676)"
      ]
     },
     "execution_count": 81,
     "metadata": {},
     "output_type": "execute_result"
    }
   ],
   "source": [
    "\n",
    "st.norm.interval(alpha=0.95, loc=np.mean(winequality_red['class']), scale=st.sem(winequality_red['class']))"
   ]
  },
  {
   "cell_type": "markdown",
   "id": "f249498a",
   "metadata": {},
   "source": [
    "#### b.Use the bootstrap method to derive a 95% confidence interval for p\n",
    "\n",
    "Ans: Confidence interval after bootstrapping is (0.11944966, 0.15259537)"
   ]
  },
  {
   "cell_type": "code",
   "execution_count": 82,
   "id": "86208767",
   "metadata": {},
   "outputs": [
    {
     "data": {
      "text/plain": [
       "array([0.11944966, 0.15259537])"
      ]
     },
     "execution_count": 82,
     "metadata": {},
     "output_type": "execute_result"
    }
   ],
   "source": [
    "sample_mean2 = []\n",
    "for _ in range(10000):\n",
    "    sample_n = np.random.choice(winequality_red['class'],size=len(winequality_red['class']))\n",
    "    sample_mean2.append(sample_n.mean())\n",
    "    \n",
    "conf_interval_sample2 = np.percentile(sample_mean2,[2.5,97.5])\n",
    "\n",
    "conf_interval_sample2"
   ]
  },
  {
   "cell_type": "code",
   "execution_count": null,
   "id": "44c8aff2",
   "metadata": {},
   "outputs": [],
   "source": []
  },
  {
   "cell_type": "code",
   "execution_count": 85,
   "id": "6b13b60a",
   "metadata": {},
   "outputs": [
    {
     "data": {
      "text/plain": [
       "<AxesSubplot:ylabel='Count'>"
      ]
     },
     "execution_count": 85,
     "metadata": {},
     "output_type": "execute_result"
    },
    {
     "data": {
      "image/png": "[encoded data removed]",
      "text/plain": [
       "<Figure size 432x288 with 1 Axes>"
      ]
     },
     "metadata": {
      "needs_background": "light"
     },
     "output_type": "display_data"
    }
   ],
   "source": [
    "sns.histplot(sample_mean2, bins=10, kde=True)"
   ]
  },
  {
   "cell_type": "markdown",
   "id": "e9db0b64",
   "metadata": {},
   "source": [
    "#### c. Compare the two intervals. Is there any difference worth our attention?  \n",
    "\n",
    "Ans: \n",
    "Using CLT, confidence interval (0.11891, 0.15250)\n",
    "\n",
    "Using bootstrap, confidence interval (0.11944966, 0.15259537)\n",
    "\n",
    "There is no significant difference worth our attention"
   ]
  },
  {
   "cell_type": "markdown",
   "id": "41193b48",
   "metadata": {},
   "source": [
    "#### d.What is the maximum likelihood estimate of p and its standard error?\n",
    "\n",
    "Ans: Maximum likelihood estimate mu_MLE= 0.13571 , sig_MLE= 0.34247\n",
    "\n",
    "standard error of MLE is 0.008564"
   ]
  },
  {
   "cell_type": "code",
   "execution_count": 87,
   "id": "1e6fae35",
   "metadata": {},
   "outputs": [
    {
     "name": "stdout",
     "output_type": "stream",
     "text": [
      "mean Data (check)=  0.1357098186366479 std dev. Data (check) =  0.3425873077431279\n",
      "mu_MLE= 0.1357112905433224  sig_MLE= 0.3424794744067952\n"
     ]
    },
    {
     "name": "stderr",
     "output_type": "stream",
     "text": [
      "<ipython-input-87-d91ab4e077e2>:16: RuntimeWarning: divide by zero encountered in log\n",
      "  ln_pdf_vals = np.log(pdf_vals)\n"
     ]
    }
   ],
   "source": [
    "Data = winequality_red['class']\n",
    "\n",
    "print('mean Data (check)= ', Data.mean(), 'std dev. Data (check) = ',  Data.std())\n",
    "\n",
    "# function that generates probabilities\n",
    "def norm_pdf(xvals, mu, sigma):\n",
    "    pdf_vals = ((1 / (sigma * np.sqrt(2 * np.pi)) *\n",
    "                 np.exp(- (xvals - mu) ** 2 / (2 * sigma ** 2)))) # normal pdf distribution\n",
    "    return pdf_vals\n",
    "\n",
    "def log_lik_norm(xvals, mu, sigma):\n",
    "    # Generates values from a normal distributed pdf\n",
    "    pdf_vals = norm_pdf(xvals, mu, sigma)\n",
    "    # Take log of normal distributed pdf values  \n",
    "    # Take log of normal distributed pdf values\n",
    "    ln_pdf_vals = np.log(pdf_vals)  \n",
    "    # Summation of normal distributed pdf values (= loglikelihood)\n",
    "    log_lik_val = ln_pdf_vals.sum()\n",
    "    return log_lik_val\n",
    "\n",
    "def crit(params, *args): # Provides the negative log-likelihood\n",
    "    # Parameters\n",
    "    mu, sigma = params\n",
    "    # Arguments\n",
    "    xvals = args\n",
    "    # Log-likelihood\n",
    "    log_lik_val = log_lik_norm(xvals, mu, sigma)\n",
    "    # Maximizing -> NOTE: Minimizing is computationally more stable\n",
    "    neg_log_lik_val = -log_lik_val\n",
    "    return neg_log_lik_val\n",
    "\n",
    "mu_init = 3\n",
    "sig_init = 1 # initalization is sensitive for 'L-BFGS-B' -> first guess: method='SLSQP'\n",
    "params_init = np.array([mu_init, sig_init])\n",
    "# Arguments\n",
    "mle_args = (Data)\n",
    "# Minimizing procedure (constrained)\n",
    "results_cstr = opt.minimize(crit, params_init, args=(mle_args), method='SLSQP',\n",
    "                            bounds=((None, None), (1e-10, None)))\n",
    "\n",
    "# Maximum Likelihood Estimators\n",
    "mu_MLE, sig_MLE = results_cstr.x\n",
    "\n",
    "print('mu_MLE=', mu_MLE, ' sig_MLE=', sig_MLE)"
   ]
  },
  {
   "cell_type": "code",
   "execution_count": 88,
   "id": "7c692ccf",
   "metadata": {},
   "outputs": [
    {
     "data": {
      "text/plain": [
       "0.008564663735914562"
      ]
     },
     "execution_count": 88,
     "metadata": {},
     "output_type": "execute_result"
    }
   ],
   "source": [
    "sample3_std_error = sig_MLE/(np.sqrt(len(winequality_red['class'])))\n",
    "sample3_std_error"
   ]
  }
 ],
 "metadata": {
  "kernelspec": {
   "display_name": "Python 3",
   "language": "python",
   "name": "python3"
  },
  "language_info": {
   "codemirror_mode": {
    "name": "ipython",
    "version": 3
   },
   "file_extension": ".py",
   "mimetype": "text/x-python",
   "name": "python",
   "nbconvert_exporter": "python",
   "pygments_lexer": "ipython3",
   "version": "3.8.8"
  }
 },
 "nbformat": 4,
 "nbformat_minor": 5
}
